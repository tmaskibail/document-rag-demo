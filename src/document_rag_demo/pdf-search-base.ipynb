{
 "cells": [
  {
   "cell_type": "code",
   "execution_count": 7,
   "metadata": {},
   "outputs": [
    {
     "name": "stderr",
     "output_type": "stream",
     "text": [
      "/tmp/ipykernel_20706/2118620731.py:26: LangChainDeprecationWarning: Since Chroma 0.4.x the manual persistence method is no longer supported as docs are automatically persisted.\n",
      "  chroma_db.persist()\n"
     ]
    }
   ],
   "source": [
    "from langchain.document_loaders import PyPDFDirectoryLoader\n",
    "from langchain_ollama import OllamaEmbeddings\n",
    "from langchain.vectorstores import Chroma\n",
    "\n",
    "persist_directory = \"../../data/chroma1/\"\n",
    "\n",
    "# Use Ollama based Llama model from local machine\n",
    "embeddings = OllamaEmbeddings(\n",
    "    model=\"llama3.2\",\n",
    "    temperature=0\n",
    ")\n",
    "\n",
    "# Load the docuemnts \n",
    "loader = PyPDFDirectoryLoader(\"../../data/pdf/\")\n",
    "docs = loader.load()\n",
    "\n",
    "# Generate embeddings and persist in the vector store. Uses LangChain's Recursive Text chunking by default.\n",
    "#TODO: Customise chunk size, overlap and other params\n",
    "#TODO: Add additional metadata to the chunk Document objects for use during retrieval.  \n",
    "chroma_db = Chroma.from_documents(\n",
    "    documents=docs,\n",
    "    embedding = embeddings,\n",
    "    persist_directory=persist_directory,\n",
    "    collection_name=\"doc_search_demo\"\n",
    ")\n",
    "chroma_db.persist()"
   ]
  },
  {
   "cell_type": "code",
   "execution_count": null,
   "metadata": {},
   "outputs": [
    {
     "data": {
      "text/plain": [
       "{'input': 'What is Taj Mahal famous for?',\n",
       " 'context': [Document(metadata={'creationdate': '2025-03-27T12:33:00+00:00', 'creator': 'Mozilla/5.0 (X11; Linux x86_64) AppleWebKit/537.36 (KHTML, like Gecko) HeadlessChrome/128.0.0.0 Safari/537.36', 'moddate': '2025-03-27T12:33:00+00:00', 'page': 0, 'page_label': '1', 'producer': 'Skia/PDF m128', 'source': '../../data/pdf/Chichen_Itza.pdf', 'title': 'Chichen Itza - Wikipedia', 'total_pages': 28}, page_content=\"Chichén Itzá\\nThe Temple of Kukulcán (El Castillo) is the\\nmost famous of the buildings in Chichen Itza.\\nLocation within Mesoamerica\\nLocation Yucatán, Mexico\\nRegion Yucatán\\nCoordinates 20°40′59″N 88°34′7″W\\nHistory\\nPeriods Late Classic to Early\\nPostclassic\\nCultures Maya civilization\\nUNESCO World Heritage Site\\nOfficial name Pre-Hispanic City of\\nChichen-Itza\\nType Cultural\\nCriteria i, ii, iii\\nDesignated 1988 (12th session)\\nReference no. 483 (https://whc.unesco.org/\\nen/list/483)\\nRegion Latin America and the\\nCaribbean\\nChichen Itza\\nChichén Itzá[nb 1] (often spelled Chichen Itza in\\nEnglish and traditional Yucatec Maya)\\nYucatec Maya pronunciation ⓘ was a large pre-\\nColumbian city built by the Maya people of the\\nTerminal Classic period. The archeological site is\\nlocated in Tinúm Municipality, Yucatán State,\\nMexico.[1]\\nChichén Itzá was a major focal point in the Northern\\nMaya Lowlands from the Late Classic (c. AD 600–\\n900) through the Terminal Classic (c. AD 800–900)\\nand into the early portion of the Postclassic period (c.\\nAD 900–1200). The site exhibits a multitude of\\narchitectural styles, reminiscent of styles seen in\\ncentral Mexico and of the Puuc and Chenes styles of\\nthe Northern Maya lowlands. The presence of central\\nMexican styles was once thought to have been\\nrepresentative of direct migration or even conquest\\nfrom central Mexico, but most contemporary\\ninterpretations view the presence of these non-Maya\\nstyles more as the result of cultural diffusion.\\nChichén Itzá was one of the largest Maya cities and it\\nwas likely to have been one of the mythical great\\ncities, or Tollans, referred to in later Mesoamerican\\nliterature.[2] The city may have had the most diverse\\npopulation in the Maya world, a factor that could have\\ncontributed to the variety of architectural styles at the\\nsite.[3]\\nThe ruins of Chichén Itzá are federal property, and the\\nsite's stewardship is maintained by Mexico's Instituto\\nNacional de Antropología e Historia (National Institute\\nof Anthropology and History). The land under the\\nmonuments had been privately owned until 29 March\\n2010, when it was purchased by the state of\\nYucatán.[nb 2]\\nChichén Itzá is one of the most visited archeological\\nsites in Mexico with over 2.6 million tourists in\\n2017.[4]\"),\n",
       "  Document(metadata={'creationdate': '2025-03-27T12:33:24+00:00', 'creator': 'Mozilla/5.0 (X11; Linux x86_64) AppleWebKit/537.36 (KHTML, like Gecko) HeadlessChrome/128.0.0.0 Safari/537.36', 'moddate': '2025-03-27T12:33:24+00:00', 'page': 0, 'page_label': '1', 'producer': 'Skia/PDF m128', 'source': '../../data/pdf/Great_Pyramid_of_Giza.pdf', 'title': 'Great Pyramid of Giza - Wikipedia', 'total_pages': 41}, page_content='Great Pyramid of Giza\\nThe Great Pyramid in May 2023\\nKhufu (Dynasty IV)\\nCoordinates 29°58′45″N 31°08′03″E\\nAncient\\nname\\n Akhet Khufu\\nKhufu\\'s Horizon[1]\\nArchitect Hemiunu (presumed)\\nConstructed c. 2600 BC (Old Kingdom)\\nc. 4600 years ago\\nType True pyramid\\nMaterial Limestone, mortar, granite\\nHeight Original: 146.6 m (481 ft) or 280\\ncubits\\nCurrent: 138.5 m (454 ft)\\nBase 230.33 m (756 ft) or 440 cubits\\nVolume 2.6 million m3 (92 million cu ft)\\nSlope 51°50\\'40\" or seked of  51\\n2  palms[2]\\nUNESCO World Heritage Site\\nPart of Memphis and its Necropolis – the\\nPyramid Fields from Giza to\\nDahshur\\nCriteria Cultural: i, iii, vi\\nReference 86-002 (https://whc.unesco.org/e\\nn/list/86-002)\\nInscription 1979 (3rd Session)\\nArea Arab states\\nGreat Pyramid of Giza\\nThe Great Pyramid of Giza[a] is the largest Egyptian\\npyramid. It served as the tomb of pharaoh Khufu, who\\nruled during the Fourth Dynasty of the Old Kingdom.\\nBuilt c. 2600 BC,[3] over a period of about 26 years,[4]\\nthe pyramid is the oldest of the Seven Wonders of the\\nAncient World, and the only wonder that has\\nremained largely intact. It is the most famous\\nmonument of the Giza pyramid complex, which is\\npart of the UNESCO World Heritage Site \"Memphis\\nand its Necropolis\".[5] It is situated at the northeastern\\nend of the line of the three main pyramids at Giza.\\nInitially standing at 146.6 metres (481 feet), the Great\\nPyramid was the world\\'s tallest human-made structure\\nfor more than 3,800 years. Over time, most of the\\nsmooth white limestone casing was removed, which\\nlowered the pyramid\\'s height to the current 138.5\\nmetres (454.4 ft); what is seen today is the underlying\\ncore structure. The base was measured to be about\\n230.3 metres (755.6 ft) square, giving a volume of\\nroughly 2.6 million cubic metres (92 million cubic\\nfeet), which includes an internal hillock.[6] The\\ndimensions of the pyramid were 280 royal cubits\\n(146.7 m; 481.4 ft) high, a base length of 440 cubits\\n(230.6 m; 756.4 ft), with a seked of  51\\n2  palms (a slope\\nof 51°50\\'40\").\\nThe Great Pyramid was built by quarrying an\\nestimated 2.3 million large blocks, weighing 6 million\\ntonnes in total. The majority of the stones are not\\nuniform in size or shape, and are only roughly\\ndressed.[7] The outside layers were bound together by\\nmortar. Primarily local limestone from the Giza\\nPlateau was used for its construction. Other blocks\\nwere imported by boat on the Nile: white limestone\\nfrom Tura for the casing, and blocks of granite from\\nAswan, weighing up to 80 tonnes, for the \"King\\'s\\nChamber\" structure.[8]'),\n",
       "  Document(metadata={'creationdate': '2025-03-27T12:32:03+00:00', 'creator': 'Mozilla/5.0 (X11; Linux x86_64) AppleWebKit/537.36 (KHTML, like Gecko) HeadlessChrome/128.0.0.0 Safari/537.36', 'moddate': '2025-03-27T12:32:03+00:00', 'page': 7, 'page_label': '8', 'producer': 'Skia/PDF m128', 'source': '../../data/pdf/Petra.pdf', 'title': 'Petra - Wikipedia', 'total_pages': 21}, page_content='The Great Temple of Petra\\nAd Deir (\"The Monastery\")\\nA stele dedicated to Qos-Allah \\'Qos is Allah\\' or \\'Qos the god\\', by Qosmilk\\n(melech: king) is found at Petra (Glueck 516). Qos is identifiable with Kaush\\n(Qaush) the God of the older Edomites. The stele is horned and the seal from\\nthe Edomite Tawilan near Petra identified with Kaush displays a star and\\ncrescent (Browning 28), both consistent with a moon deity. It is conceivable\\nthat the latter could have resulted from trade with Harran (Bartlett 194). There\\nis continuing debate about the nature of Qos (qaus: bow) who has been\\nidentified both with a hunting bow (hunting god) and a rainbow (weather god)\\nalthough the crescent above the stele is also a bow.\\nNabataean inscriptions in Sinai and other places display widespread references to names including Allah, El and Allat\\n(god and goddess), with regional references to al-Uzza, Baal and Manutu (Manat) (Negev 11). Allat is also found in\\nSinai in South Arabian language. Allah occurs particularly as Garm-\\'allahi: \"god decided\" (Greek Garamelos) and\\nAush-allahi: \"gods covenant\" (Greek Ausallos). We find both Shalm-lahi \"Allah is peace\" and Shalm-allat, \"the peace\\nof the goddess\". We also find Amat-allahi \"she-servant of god\" and Halaf-llahi \"the successor of Allah\".[64]\\nRecently, Petra has been put forward as the original direction of Muslim prayer, the Qibla, by some that the earliest\\nmosques faced Petra, not Jerusalem or Mecca.[65] This view is also shared by Abdullah Hashem, the self-proclaimed\\nQa\\'im of the Ahmadi Religion of Peace and Light.[66] However, others have challenged the notion of comparing\\nmodern readings of Qiblah directions to early mosques’ Qiblahs as they claim early Muslims could not accurately\\ncalculate the direction of the Qiblah to Mecca and so the apparent pinpointing of Petra by some early mosques may\\nwell be coincidental.[67]\\nThe Monastery, Petra\\'s largest monument, dates from the 1st century BC. It was\\ndedicated to Obodas I and is believed to be the symposium of Obodas the god.\\nThis information is inscribed on the ruins of the Monastery (the name is the\\ntranslation of the Arabic Ad Deir).\\nThe Temple of the Winged Lions is a large temple complex dated to the reign of\\nKing Aretas IV (9 BC–40 AD). The temple is located in Petra\\'s so-called Sacred\\nQuarter, an area situated at the end of Petra\\'s main Colonnaded Street consisting\\nof two majestic temples, the Qasr al-Bint and, opposite, the Temple of the\\nWinged Lions on the northern bank of Wadi Musa.\\nChristianity found its way to Petra in the 4th century AD, nearly 500 years after the establishment of Petra as a trade\\ncentre. The start of Christianity in Petra started primarily in 330 AD when the first Christian Emperor of Rome took\\nover, Constantine I, otherwise known as Constantine The Great. He began the initial spread of Christianity throughout\\nthe Roman Empire. Athanasius mentions a bishop of Petra (Antioch. 10) named Asterius. At least one of the tombs (the\\n\"tomb with the urn\"?) was used as a church. An inscription in red paint records its consecration \"in the time of the most\\nholy bishop Jason\" (447). After the Islamic conquest of 629–632, Christianity in Petra, as of most of Arabia, gave way\\nto Islam. During the First Crusade Petra was occupied by Baldwin I of the Kingdom of Jerusalem and formed the\\nsecond fief of the barony of Al Karak (in the lordship of Oultrejordain) with the title Château de la Valée de Moyse or\\nSela. It remained in the hands of the Franks until 1189.[24] It is still a titular see of the Catholic Church.[68]\\nAccording to Arab tradition, Petra is the spot where Musa (Moses) struck a rock with his staff and water came forth,\\nand where Moses\\' brother, Harun (Aaron), is buried, at Mount Hor, known today as Jabal Haroun or Mount Aaron. The\\nWadi Musa or \"Wadi of Moses\" is the Arab name for the narrow valley at the head of which Petra is sited. A\\nmountaintop shrine of Moses\\' sister Miriam was still shown to pilgrims at the time of Jerome in the 4th century, but its\\nlocation has not been identified since.[69]'),\n",
       "  Document(metadata={'creationdate': '2025-03-27T12:33:43+00:00', 'creator': 'Mozilla/5.0 (X11; Linux x86_64) AppleWebKit/537.36 (KHTML, like Gecko) HeadlessChrome/128.0.0.0 Safari/537.36', 'moddate': '2025-03-27T12:33:43+00:00', 'page': 3, 'page_label': '4', 'producer': 'Skia/PDF m128', 'source': '../../data/pdf/Hanging_Gardens_of_Babylon.pdf', 'title': 'Hanging Gardens of Babylon - Wikipedia', 'total_pages': 8}, page_content='Assyrian wall relief showing gardens\\nin Nineveh\\nSennacherib left written descriptions,[31] and there is archaeological evidence of his water\\nengineering.[32] His grandson Assurbanipal pictured the mature garden on a sculptured wall\\npanel in his palace.[33]\\nSennacherib called his new palace and garden \"a wonder for all peoples\". He describes the\\nmaking and operation of screws to raise water in his garden.[34]\\nThe descriptions of the classical authors fit closely to these contemporary records. Before\\nthe Battle of Gaugamela in 331 BC Alexander the Great camped for four days near the\\naqueduct at Jerwan.[35] The historians who travelled with him would have had ample time to\\ninvestigate the enormous works around them, recording them in Greek. These first-hand\\naccounts have not survived into modern times, but were quoted by later Greek writers.\\nKing Sennacherib\\'s garden was well-known not just for its beauty – a year-round oasis of lush green in a\\ndusty summer landscape – but also for the marvelous feats of water engineering that maintained the\\ngarden.[36] There was a tradition of Assyrian royal garden building. King Ashurnasirpal II (883–859 BC)\\nhad created a canal, which cut through the mountains. Fruit tree orchards were planted. Also mentioned\\nwere pines, cypresses and junipers; almond trees, date trees, ebony, rosewood, olive, oak, tamarisk,\\nwalnut, terebinth, ash, fir, pomegranate, pear, quince, fig, and grapes. A sculptured wall panel of\\nAssurbanipal shows the garden in its maturity. One original panel[37] and the drawing of another[38] are\\nheld by the British Museum, although neither is on public display. Several features mentioned by the\\nclassical authors are discernible on these contemporary images.\\nOf Sennacherib\\'s palace, he mentions the massive limestone\\nblocks that reinforce the flood defences. Parts of the palace were\\nexcavated by Austin Henry Layard in the mid-19th century. His\\ncitadel plan shows contours which would be consistent with\\nSennacherib\\'s garden, but its position has not been confirmed. The\\narea has been used as a military base in recent times, making it\\ndifficult to investigate further.\\nThe irrigation of such a garden demanded an upgraded water\\nsupply to the city of Nineveh. The canals stretched over 50\\nkilometres (31 mi) into the mountains. Sennacherib was proud of\\nthe technologies he had employed and describes them in some detail on his inscriptions. At the headwater\\nof Bavian (Khinnis)[39] his inscription mentions automatic sluice gates. An enormous aqueduct crossing\\nthe valley at Jerwan was constructed of over two million dressed stones. It used stone arches and\\nwaterproof cement.[40] On it is written:\\nSennacherib king of the world king of Assyria. Over a great distance I had a watercourse\\ndirected to the environs of Nineveh, joining together the waters.... Over steep-sided valleys I\\nspanned an aqueduct of white limestone blocks, I made those waters flow over it.\\nSennacherib claimed that he had built a \"Wonder for all Peoples\", and said he was the first to deploy a\\nnew casting technique in place of the \"lost-wax\" process for his monumental (30 tonne) bronze castings.\\nHe was able to bring the water into his garden at a high level because it was sourced from further up in\\nthe mountains, and he then raised the water even higher by deploying his new water screws. This meant\\nhe could build a garden that towered above the landscape with large trees on the top of the terraces – a\\nstunning artistic effect that surpassed those of his predecessors.')],\n",
       " 'answer': \"The Taj Mahal is not mentioned in this text, but I can tell you what it's famous for. The Taj Mahal is a famous white marble mausoleum located in Agra, India, and it's considered one of the most beautiful buildings in the world. It was built by Mughal Emperor Shah Jahan as a tomb for his wife, Mumtaz Mahal, who died in 1631. The Taj Mahal is famous for its stunning architecture, intricate marble inlays, and beautiful gardens. It's also considered one of the Seven Wonders of the Modern World and is a UNESCO World Heritage Site.\"}"
      ]
     },
     "execution_count": 3,
     "metadata": {},
     "output_type": "execute_result"
    }
   ],
   "source": [
    "# \n",
    "from langchain_ollama.llms import OllamaLLM\n",
    "from langchain.chains import create_retrieval_chain\n",
    "from langchain.chains.combine_documents import create_stuff_documents_chain\n",
    "from langchain_core.prompts import ChatPromptTemplate\n",
    "\n",
    "\n",
    "llm = OllamaLLM(\n",
    "    model=\"llama3.2\",\n",
    "    temperature=0\n",
    ")\n",
    "\n",
    "retriever = chroma_db.as_retriever(search_kwargs={'k': 3})\n",
    "\n",
    "system_prompt = (\n",
    "    \"Use the given context to answer the question. \"\n",
    "    \"If you don't know the answer, say you don't know. \"\n",
    "    \"Use three sentence maximum and keep the answer concise. \"\n",
    "    \"Context: {context}\"\n",
    ")\n",
    "\n",
    "prompt = ChatPromptTemplate.from_messages(\n",
    "    [\n",
    "        (\"system\", system_prompt),\n",
    "        (\"human\", \"{input}\"),\n",
    "    ]\n",
    ")\n",
    "\n",
    "question_answer_chain = create_stuff_documents_chain(llm, prompt)\n",
    "\n",
    "chain = create_retrieval_chain(retriever, question_answer_chain)\n",
    "chain.invoke({\"input\": \"What is Taj Mahal famous for?\"})\n"
   ]
  }
 ],
 "metadata": {
  "kernelspec": {
   "display_name": ".venv",
   "language": "python",
   "name": "python3"
  },
  "language_info": {
   "codemirror_mode": {
    "name": "ipython",
    "version": 3
   },
   "file_extension": ".py",
   "mimetype": "text/x-python",
   "name": "python",
   "nbconvert_exporter": "python",
   "pygments_lexer": "ipython3",
   "version": "3.12.3"
  }
 },
 "nbformat": 4,
 "nbformat_minor": 2
}
