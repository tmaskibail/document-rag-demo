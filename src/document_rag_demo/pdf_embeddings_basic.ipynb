{
 "cells": [
  {
   "cell_type": "code",
   "execution_count": 1,
   "metadata": {},
   "outputs": [
    {
     "data": {
      "text/plain": [
       "Document(id='fc5a9473-8a96-4fc3-8b58-18cee178f4c0', metadata={'producer': 'Skia/PDF m128', 'creator': 'Mozilla/5.0 (X11; Linux x86_64) AppleWebKit/537.36 (KHTML, like Gecko) HeadlessChrome/128.0.0.0 Safari/537.36', 'creationdate': '2025-03-27T12:32:03+00:00', 'title': 'Petra - Wikipedia', 'moddate': '2025-03-27T12:32:03+00:00', 'source': '../../data/pdf/Petra.pdf', 'total_pages': 21, 'page': 7, 'page_label': '8'}, page_content='The Great Temple of Petra\\nAd Deir (\"The Monastery\")\\nA stele dedicated to Qos-Allah \\'Qos is Allah\\' or \\'Qos the god\\', by Qosmilk\\n(melech: king) is found at Petra (Glueck 516). Qos is identifiable with Kaush\\n(Qaush) the God of the older Edomites. The stele is horned and the seal from\\nthe Edomite Tawilan near Petra identified with Kaush displays a star and\\ncrescent (Browning 28), both consistent with a moon deity. It is conceivable\\nthat the latter could have resulted from trade with Harran (Bartlett 194). There\\nis continuing debate about the nature of Qos (qaus: bow) who has been\\nidentified both with a hunting bow (hunting god) and a rainbow (weather god)\\nalthough the crescent above the stele is also a bow.\\nNabataean inscriptions in Sinai and other places display widespread references to names including Allah, El and Allat\\n(god and goddess), with regional references to al-Uzza, Baal and Manutu (Manat) (Negev 11). Allat is also found in\\nSinai in South Arabian language. Allah occurs particularly as Garm-\\'allahi: \"god decided\" (Greek Garamelos) and\\nAush-allahi: \"gods covenant\" (Greek Ausallos). We find both Shalm-lahi \"Allah is peace\" and Shalm-allat, \"the peace\\nof the goddess\". We also find Amat-allahi \"she-servant of god\" and Halaf-llahi \"the successor of Allah\".[64]\\nRecently, Petra has been put forward as the original direction of Muslim prayer, the Qibla, by some that the earliest\\nmosques faced Petra, not Jerusalem or Mecca.[65] This view is also shared by Abdullah Hashem, the self-proclaimed\\nQa\\'im of the Ahmadi Religion of Peace and Light.[66] However, others have challenged the notion of comparing\\nmodern readings of Qiblah directions to early mosques’ Qiblahs as they claim early Muslims could not accurately\\ncalculate the direction of the Qiblah to Mecca and so the apparent pinpointing of Petra by some early mosques may\\nwell be coincidental.[67]\\nThe Monastery, Petra\\'s largest monument, dates from the 1st century BC. It was\\ndedicated to Obodas I and is believed to be the symposium of Obodas the god.\\nThis information is inscribed on the ruins of the Monastery (the name is the\\ntranslation of the Arabic Ad Deir).\\nThe Temple of the Winged Lions is a large temple complex dated to the reign of\\nKing Aretas IV (9 BC–40 AD). The temple is located in Petra\\'s so-called Sacred\\nQuarter, an area situated at the end of Petra\\'s main Colonnaded Street consisting\\nof two majestic temples, the Qasr al-Bint and, opposite, the Temple of the\\nWinged Lions on the northern bank of Wadi Musa.\\nChristianity found its way to Petra in the 4th century AD, nearly 500 years after the establishment of Petra as a trade\\ncentre. The start of Christianity in Petra started primarily in 330 AD when the first Christian Emperor of Rome took\\nover, Constantine I, otherwise known as Constantine The Great. He began the initial spread of Christianity throughout\\nthe Roman Empire. Athanasius mentions a bishop of Petra (Antioch. 10) named Asterius. At least one of the tombs (the\\n\"tomb with the urn\"?) was used as a church. An inscription in red paint records its consecration \"in the time of the most\\nholy bishop Jason\" (447). After the Islamic conquest of 629–632, Christianity in Petra, as of most of Arabia, gave way\\nto Islam. During the First Crusade Petra was occupied by Baldwin I of the Kingdom of Jerusalem and formed the\\nsecond fief of the barony of Al Karak (in the lordship of Oultrejordain) with the title Château de la Valée de Moyse or\\nSela. It remained in the hands of the Franks until 1189.[24] It is still a titular see of the Catholic Church.[68]\\nAccording to Arab tradition, Petra is the spot where Musa (Moses) struck a rock with his staff and water came forth,\\nand where Moses\\' brother, Harun (Aaron), is buried, at Mount Hor, known today as Jabal Haroun or Mount Aaron. The\\nWadi Musa or \"Wadi of Moses\" is the Arab name for the narrow valley at the head of which Petra is sited. A\\nmountaintop shrine of Moses\\' sister Miriam was still shown to pilgrims at the time of Jerome in the 4th century, but its\\nlocation has not been identified since.[69]')"
      ]
     },
     "execution_count": 1,
     "metadata": {},
     "output_type": "execute_result"
    }
   ],
   "source": [
    "from langchain.document_loaders import PyPDFDirectoryLoader\n",
    "from langchain_ollama import OllamaEmbeddings\n",
    "from langchain_core.vectorstores import InMemoryVectorStore\n",
    "\n",
    "embeddings = OllamaEmbeddings(\n",
    "    model = \"llama3.2\"\n",
    ")\n",
    "\n",
    "# https://python.langchain.com/docs/how_to/document_loader_pdf/\n",
    "loader = PyPDFDirectoryLoader(\"../../data/pdf/\")\n",
    "docs = loader.load()\n",
    "\n",
    "vector_store = InMemoryVectorStore.from_documents(\n",
    "    documents = docs,\n",
    "    embedding = embeddings,\n",
    ")\n",
    "\n",
    "retriever = vector_store.as_retriever()\n",
    "\n",
    "retrieved_docuemnts = retriever.invoke(\"Where is Petra located?\")\n",
    "\n",
    "retrieved_docuemnts[0]"
   ]
  }
 ],
 "metadata": {
  "kernelspec": {
   "display_name": ".venv",
   "language": "python",
   "name": "python3"
  },
  "language_info": {
   "codemirror_mode": {
    "name": "ipython",
    "version": 3
   },
   "file_extension": ".py",
   "mimetype": "text/x-python",
   "name": "python",
   "nbconvert_exporter": "python",
   "pygments_lexer": "ipython3",
   "version": "3.12.3"
  }
 },
 "nbformat": 4,
 "nbformat_minor": 2
}
