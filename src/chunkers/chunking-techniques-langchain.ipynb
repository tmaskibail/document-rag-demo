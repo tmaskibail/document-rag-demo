{
 "cells": [
  {
   "cell_type": "code",
   "execution_count": 1,
   "metadata": {},
   "outputs": [],
   "source": [
    "from langchain.text_splitter import CharacterTextSplitter\n",
    "from langchain.text_splitter import RecursiveCharacterTextSplitter\n",
    "\n",
    "text = \"\"\"\n",
    "The Taj Mahal (Hindi: 'Crown of the Palace') is an ivory-white marble mausoleum on the right bank of the river Yamuna in Agra, Uttar Pradesh, India. It was commissioned in 1631 by the fifth Mughal emperor, Shah Jahan (r. 1628–1658) to house the tomb of his beloved wife, Mumtaz Mahal; it also houses the tomb of Shah Jahan himself. The tomb is the centrepiece of a 17-hectare (42-acre) complex, which includes a mosque and a guest house, and is set in formal gardens bounded on three sides by a crenellated wall.\n",
    "\n",
    "Construction of the mausoleum was completed in 1648, but work continued on other phases of the project for another five years. The first ceremony held at the mausoleum was an observance by Shah Jahan, on 6 February 1643, of the 12th anniversary of the death of Mumtaz Mahal. The Taj Mahal complex is believed to have been completed in its entirety in 1653 at a cost estimated at the time to be around ₹32 million, which in 2015 would be approximately ₹52.8 billion (US$827 million).[4]\n",
    "\n",
    "The building complex incorporates the design traditions of Indo-Islamic and Mughal architecture. It employs symmetrical constructions with the usage of various shapes and symbols. While the mausoleum is constructed of white marble inlaid with semi-precious stones, red sandstone was used for other buildings in the complex similar to the Mughal era buildings of the time. The construction project employed more than 20,000 workers and artisans under the guidance of a board of architects led by Ustad Ahmad Lahori, the emperor's court architect.\n",
    "\n",
    "The Taj Mahal was designated as a UNESCO World Heritage Site in 1983 for being \"the jewel of Islamic art in India and one of the universally admired masterpieces of the world's heritage\". It is regarded as one of the best examples of Mughal architecture and a symbol of Indian history. The Taj Mahal is a major tourist attraction and attracts more than five million visitors a year. In 2007, it was declared a winner of the New 7 Wonders of the World initiative. The Taj Mahal and its setting, surrounding grounds, and structures are a Monument of National Importance, administered by the Archaeological Survey of India.\n",
    "\"\"\"\n"
   ]
  },
  {
   "cell_type": "code",
   "execution_count": 2,
   "metadata": {},
   "outputs": [
    {
     "data": {
      "text/plain": [
       "[\"The Taj Mahal (Hindi: 'Crown of the Palace') is an ivory-white marble mausoleum on the right bank of the river Yamuna in Agra, Uttar Pradesh, India.\",\n",
       " 'n Agra, Uttar Pradesh, India. It was commissioned in 1631 by the fifth Mughal emperor, Shah Jahan (r.\\u20091628–1658) to house the tomb of his beloved wife',\n",
       " 'e the tomb of his beloved wife, Mumtaz Mahal; it also houses the tomb of Shah Jahan himself. The tomb is the centrepiece of a 17-hectare (42-acre) com',\n",
       " 'of a 17-hectare (42-acre) complex, which includes a mosque and a guest house, and is set in formal gardens bounded on three sides by a crenellated wa',\n",
       " 'hree sides by a crenellated wall.\\n\\nConstruction of the mausoleum was completed in 1648, but work continued on other phases of the project for another',\n",
       " 'es of the project for another five years. The first ceremony held at the mausoleum was an observance by Shah Jahan, on 6 February 1643, of the 12th an',\n",
       " 'February 1643, of the 12th anniversary of the death of Mumtaz Mahal. The Taj Mahal complex is believed to have been completed in its entirety in 1653',\n",
       " 'pleted in its entirety in 1653 at a cost estimated at the time to be around ₹32 million, which in 2015 would be approximately ₹52.8 billion (US$827 mi',\n",
       " 'ately ₹52.8 billion (US$827 million).[4]\\n\\nThe building complex incorporates the design traditions of Indo-Islamic and Mughal architecture. It employs',\n",
       " 'ghal architecture. It employs symmetrical constructions with the usage of various shapes and symbols. While the mausoleum is constructed of white marb',\n",
       " 'm is constructed of white marble inlaid with semi-precious stones, red sandstone was used for other buildings in the complex similar to the Mughal era',\n",
       " 'plex similar to the Mughal era buildings of the time. The construction project employed more than 20,000 workers and artisans under the guidance of a',\n",
       " \"isans under the guidance of a board of architects led by Ustad Ahmad Lahori, the emperor's court architect.\\n\\nThe Taj Mahal was designated as a UNESCO\",\n",
       " 'al was designated as a UNESCO World Heritage Site in 1983 for being \"the jewel of Islamic art in India and one of the universally admired masterpieces',\n",
       " 'iversally admired masterpieces of the world\\'s heritage\". It is regarded as one of the best examples of Mughal architecture and a symbol of Indian hist',\n",
       " 're and a symbol of Indian history. The Taj Mahal is a major tourist attraction and attracts more than five million visitors a year. In 2007, it was de',\n",
       " 'ors a year. In 2007, it was declared a winner of the New 7 Wonders of the World initiative. The Taj Mahal and its setting, surrounding grounds, and st',\n",
       " 'g, surrounding grounds, and structures are a Monument of National Importance, administered by the Archaeological Survey of India.']"
      ]
     },
     "execution_count": 2,
     "metadata": {},
     "output_type": "execute_result"
    }
   ],
   "source": [
    "char_splitter = CharacterTextSplitter(\n",
    "    chunk_size = 150,\n",
    "    chunk_overlap= 30,\n",
    "    separator='',\n",
    "    )\n",
    "        \n",
    "chunks = char_splitter.split_text(text)\n",
    "chunks"
   ]
  },
  {
   "cell_type": "code",
   "execution_count": 3,
   "metadata": {},
   "outputs": [
    {
     "data": {
      "text/plain": [
       "[\"The Taj Mahal (Hindi: 'Crown of the Palace') is an ivory-white marble mausoleum on the right bank of the river Yamuna in Agra, Uttar Pradesh, India.\",\n",
       " 'ivory-white marble mausoleum on the right bank of the river Yamuna in Agra, Uttar Pradesh, India. It was commissioned in 1631 by the fifth Mughal',\n",
       " 'of the river Yamuna in Agra, Uttar Pradesh, India. It was commissioned in 1631 by the fifth Mughal emperor, Shah Jahan (r.\\u20091628–1658) to house the',\n",
       " 'It was commissioned in 1631 by the fifth Mughal emperor, Shah Jahan (r.\\u20091628–1658) to house the tomb of his beloved wife, Mumtaz Mahal; it also',\n",
       " 'emperor, Shah Jahan (r.\\u20091628–1658) to house the tomb of his beloved wife, Mumtaz Mahal; it also houses the tomb of Shah Jahan himself. The tomb is',\n",
       " 'tomb of his beloved wife, Mumtaz Mahal; it also houses the tomb of Shah Jahan himself. The tomb is the centrepiece of a 17-hectare (42-acre) complex,',\n",
       " 'the tomb of Shah Jahan himself. The tomb is the centrepiece of a 17-hectare (42-acre) complex, which includes a mosque and a guest house, and is set',\n",
       " 'of a 17-hectare (42-acre) complex, which includes a mosque and a guest house, and is set in formal gardens bounded on three sides by a crenellated',\n",
       " 'a mosque and a guest house, and is set in formal gardens bounded on three sides by a crenellated wall.',\n",
       " 'Construction of the mausoleum was completed in 1648, but work continued on other phases of the project for another five years. The first ceremony',\n",
       " '1648, but work continued on other phases of the project for another five years. The first ceremony held at the mausoleum was an observance by Shah',\n",
       " 'project for another five years. The first ceremony held at the mausoleum was an observance by Shah Jahan, on 6 February 1643, of the 12th anniversary',\n",
       " 'held at the mausoleum was an observance by Shah Jahan, on 6 February 1643, of the 12th anniversary of the death of Mumtaz Mahal. The Taj Mahal',\n",
       " 'Shah Jahan, on 6 February 1643, of the 12th anniversary of the death of Mumtaz Mahal. The Taj Mahal complex is believed to have been completed in its',\n",
       " 'of the death of Mumtaz Mahal. The Taj Mahal complex is believed to have been completed in its entirety in 1653 at a cost estimated at the time to be',\n",
       " 'is believed to have been completed in its entirety in 1653 at a cost estimated at the time to be around ₹32 million, which in 2015 would be',\n",
       " 'entirety in 1653 at a cost estimated at the time to be around ₹32 million, which in 2015 would be approximately ₹52.8 billion (US$827 million).[4]',\n",
       " 'The building complex incorporates the design traditions of Indo-Islamic and Mughal architecture. It employs symmetrical constructions with the usage',\n",
       " 'of Indo-Islamic and Mughal architecture. It employs symmetrical constructions with the usage of various shapes and symbols. While the mausoleum is',\n",
       " 'symmetrical constructions with the usage of various shapes and symbols. While the mausoleum is constructed of white marble inlaid with semi-precious',\n",
       " 'shapes and symbols. While the mausoleum is constructed of white marble inlaid with semi-precious stones, red sandstone was used for other buildings',\n",
       " 'of white marble inlaid with semi-precious stones, red sandstone was used for other buildings in the complex similar to the Mughal era buildings of',\n",
       " 'red sandstone was used for other buildings in the complex similar to the Mughal era buildings of the time. The construction project employed more',\n",
       " 'the complex similar to the Mughal era buildings of the time. The construction project employed more than 20,000 workers and artisans under the',\n",
       " 'of the time. The construction project employed more than 20,000 workers and artisans under the guidance of a board of architects led by Ustad Ahmad',\n",
       " \"than 20,000 workers and artisans under the guidance of a board of architects led by Ustad Ahmad Lahori, the emperor's court architect.\",\n",
       " 'The Taj Mahal was designated as a UNESCO World Heritage Site in 1983 for being \"the jewel of Islamic art in India and one of the universally admired',\n",
       " 'Site in 1983 for being \"the jewel of Islamic art in India and one of the universally admired masterpieces of the world\\'s heritage\". It is regarded as',\n",
       " 'India and one of the universally admired masterpieces of the world\\'s heritage\". It is regarded as one of the best examples of Mughal architecture and',\n",
       " 'of the world\\'s heritage\". It is regarded as one of the best examples of Mughal architecture and a symbol of Indian history. The Taj Mahal is a major',\n",
       " 'the best examples of Mughal architecture and a symbol of Indian history. The Taj Mahal is a major tourist attraction and attracts more than five',\n",
       " 'a symbol of Indian history. The Taj Mahal is a major tourist attraction and attracts more than five million visitors a year. In 2007, it was declared',\n",
       " 'tourist attraction and attracts more than five million visitors a year. In 2007, it was declared a winner of the New 7 Wonders of the World',\n",
       " 'five million visitors a year. In 2007, it was declared a winner of the New 7 Wonders of the World initiative. The Taj Mahal and its setting,',\n",
       " 'was declared a winner of the New 7 Wonders of the World initiative. The Taj Mahal and its setting, surrounding grounds, and structures are a Monument',\n",
       " 'World initiative. The Taj Mahal and its setting, surrounding grounds, and structures are a Monument of National Importance, administered by the',\n",
       " 'surrounding grounds, and structures are a Monument of National Importance, administered by the Archaeological Survey of India.']"
      ]
     },
     "execution_count": 3,
     "metadata": {},
     "output_type": "execute_result"
    }
   ],
   "source": [
    "recursive_character_splitter = RecursiveCharacterTextSplitter(\n",
    "        chunk_size = 150,\n",
    "        chunk_overlap = 100,\n",
    "        length_function = len\n",
    "    )\n",
    "\n",
    "chunks = recursive_character_splitter.split_text(text)\n",
    "chunks"
   ]
  },
  {
   "cell_type": "code",
   "execution_count": 4,
   "metadata": {},
   "outputs": [
    {
     "data": {
      "text/plain": [
       "37"
      ]
     },
     "execution_count": 4,
     "metadata": {},
     "output_type": "execute_result"
    }
   ],
   "source": [
    "len(chunks)"
   ]
  },
  {
   "cell_type": "code",
   "execution_count": 5,
   "metadata": {},
   "outputs": [
    {
     "data": {
      "text/plain": [
       "[\"The Taj Mahal (Hindi: 'Crown of the Palace') is an ivory-white marble mausoleum on the right bank of the river Yamuna in Agra, Uttar Pradesh, India. It was commissioned in 1631 by the fifth Mughal emperor, Shah Jahan (r.\\u20091628–1658) to house the tomb of his beloved wife, Mumtaz Mahal; it also houses the tomb of Shah Jahan himself. The tomb is the centrepiece of a 17-hectare (42-acre) complex, which includes a mosque and a guest house, and is set in formal gardens bounded on three sides by a crenellated wall.\",\n",
       " 'Construction of the mausoleum was completed in 1648, but work continued on other phases of the project for another five years. The first ceremony held at the mausoleum was an observance by Shah Jahan, on 6 February 1643, of the 12th anniversary of the death of Mumtaz Mahal. The Taj Mahal complex is believed to have been completed in its entirety in 1653 at a cost estimated at the time to be around ₹32 million, which in 2015 would be approximately ₹52.8 billion (US$827 million).[4]',\n",
       " \"The building complex incorporates the design traditions of Indo-Islamic and Mughal architecture. It employs symmetrical constructions with the usage of various shapes and symbols. While the mausoleum is constructed of white marble inlaid with semi-precious stones, red sandstone was used for other buildings in the complex similar to the Mughal era buildings of the time. The construction project employed more than 20,000 workers and artisans under the guidance of a board of architects led by Ustad Ahmad Lahori, the emperor's court architect.\",\n",
       " 'The Taj Mahal was designated as a UNESCO World Heritage Site in 1983 for being \"the jewel of Islamic art in India and one of the universally admired masterpieces of the world\\'s heritage\". It is regarded as one of the best examples of Mughal architecture and a symbol of Indian history. The Taj Mahal is a major tourist attraction and attracts more than five million visitors a year. In 2007, it was declared a winner of the New 7 Wonders of the World initiative. The Taj Mahal and its setting, surrounding grounds, and structures are a Monument of National Importance, administered by the Archaeological Survey of India.']"
      ]
     },
     "execution_count": 5,
     "metadata": {},
     "output_type": "execute_result"
    }
   ],
   "source": [
    "token_splitter = RecursiveCharacterTextSplitter.from_tiktoken_encoder(\n",
    "        chunk_size = 150,\n",
    "        chunk_overlap = 100\n",
    "    )\n",
    "\n",
    "chunks = token_splitter.split_text(text)\n",
    "chunks"
   ]
  },
  {
   "cell_type": "code",
   "execution_count": 6,
   "metadata": {},
   "outputs": [
    {
     "ename": "IndexError",
     "evalue": "string index out of range",
     "output_type": "error",
     "traceback": [
      "\u001b[31m---------------------------------------------------------------------------\u001b[39m",
      "\u001b[31mIndexError\u001b[39m                                Traceback (most recent call last)",
      "\u001b[36mCell\u001b[39m\u001b[36m \u001b[39m\u001b[32mIn[6]\u001b[39m\u001b[32m, line 16\u001b[39m\n\u001b[32m      9\u001b[39m     html_doc = response.text\n\u001b[32m     11\u001b[39m headers_to_split_on = [\n\u001b[32m     12\u001b[39m     (\u001b[33m\"\u001b[39m\u001b[33mh1\u001b[39m\u001b[33m\"\u001b[39m, \u001b[33m\"\u001b[39m\u001b[33mHeader 1\u001b[39m\u001b[33m\"\u001b[39m),\n\u001b[32m     13\u001b[39m     (\u001b[33m\"\u001b[39m\u001b[33mp\u001b[39m\u001b[33m\"\u001b[39m, \u001b[33m\"\u001b[39m\u001b[33mparagraph\u001b[39m\u001b[33m\"\u001b[39m)\n\u001b[32m     14\u001b[39m ]\n\u001b[32m---> \u001b[39m\u001b[32m16\u001b[39m html_splitter = \u001b[43mHTMLHeaderTextSplitter\u001b[49m\u001b[43m(\u001b[49m\u001b[43mheaders_to_split_on\u001b[49m\u001b[43m=\u001b[49m\u001b[43mheaders_to_split_on\u001b[49m\u001b[43m)\u001b[49m\n\u001b[32m     17\u001b[39m html_header_splits = html_splitter.split_text(html_doc)\n\u001b[32m     18\u001b[39m html_header_splits[\u001b[32m0\u001b[39m].page_content\n",
      "\u001b[36mFile \u001b[39m\u001b[32m~/ws/idea/document-rag-demo/.venv/lib/python3.12/site-packages/langchain_text_splitters/html.py:127\u001b[39m, in \u001b[36mHTMLHeaderTextSplitter.__init__\u001b[39m\u001b[34m(self, headers_to_split_on, return_each_element)\u001b[39m\n\u001b[32m    114\u001b[39m \u001b[38;5;28;01mdef\u001b[39;00m\u001b[38;5;250m \u001b[39m\u001b[34m__init__\u001b[39m(\n\u001b[32m    115\u001b[39m     \u001b[38;5;28mself\u001b[39m,\n\u001b[32m    116\u001b[39m     headers_to_split_on: List[Tuple[\u001b[38;5;28mstr\u001b[39m, \u001b[38;5;28mstr\u001b[39m]],\n\u001b[32m    117\u001b[39m     return_each_element: \u001b[38;5;28mbool\u001b[39m = \u001b[38;5;28;01mFalse\u001b[39;00m,\n\u001b[32m    118\u001b[39m ) -> \u001b[38;5;28;01mNone\u001b[39;00m:\n\u001b[32m    119\u001b[39m \u001b[38;5;250m    \u001b[39m\u001b[33;03m\"\"\"Initialize with headers to split on.\u001b[39;00m\n\u001b[32m    120\u001b[39m \n\u001b[32m    121\u001b[39m \u001b[33;03m    Args:\u001b[39;00m\n\u001b[32m   (...)\u001b[39m\u001b[32m    125\u001b[39m \u001b[33;03m            element as a separate Document. Defaults to False.\u001b[39;00m\n\u001b[32m    126\u001b[39m \u001b[33;03m    \"\"\"\u001b[39;00m\n\u001b[32m--> \u001b[39m\u001b[32m127\u001b[39m     \u001b[38;5;28mself\u001b[39m.headers_to_split_on = \u001b[38;5;28;43msorted\u001b[39;49m\u001b[43m(\u001b[49m\n\u001b[32m    128\u001b[39m \u001b[43m        \u001b[49m\u001b[43mheaders_to_split_on\u001b[49m\u001b[43m,\u001b[49m\u001b[43m \u001b[49m\u001b[43mkey\u001b[49m\u001b[43m=\u001b[49m\u001b[38;5;28;43;01mlambda\u001b[39;49;00m\u001b[43m \u001b[49m\u001b[43mx\u001b[49m\u001b[43m:\u001b[49m\u001b[43m \u001b[49m\u001b[38;5;28;43mint\u001b[39;49m\u001b[43m(\u001b[49m\u001b[43mx\u001b[49m\u001b[43m[\u001b[49m\u001b[32;43m0\u001b[39;49m\u001b[43m]\u001b[49m\u001b[43m[\u001b[49m\u001b[32;43m1\u001b[39;49m\u001b[43m]\u001b[49m\u001b[43m)\u001b[49m\n\u001b[32m    129\u001b[39m \u001b[43m    \u001b[49m\u001b[43m)\u001b[49m\n\u001b[32m    130\u001b[39m     \u001b[38;5;28mself\u001b[39m.header_mapping = \u001b[38;5;28mdict\u001b[39m(\u001b[38;5;28mself\u001b[39m.headers_to_split_on)\n\u001b[32m    131\u001b[39m     \u001b[38;5;28mself\u001b[39m.header_tags = [tag \u001b[38;5;28;01mfor\u001b[39;00m tag, _ \u001b[38;5;129;01min\u001b[39;00m \u001b[38;5;28mself\u001b[39m.headers_to_split_on]\n",
      "\u001b[36mFile \u001b[39m\u001b[32m~/ws/idea/document-rag-demo/.venv/lib/python3.12/site-packages/langchain_text_splitters/html.py:128\u001b[39m, in \u001b[36mHTMLHeaderTextSplitter.__init__.<locals>.<lambda>\u001b[39m\u001b[34m(x)\u001b[39m\n\u001b[32m    114\u001b[39m \u001b[38;5;28;01mdef\u001b[39;00m\u001b[38;5;250m \u001b[39m\u001b[34m__init__\u001b[39m(\n\u001b[32m    115\u001b[39m     \u001b[38;5;28mself\u001b[39m,\n\u001b[32m    116\u001b[39m     headers_to_split_on: List[Tuple[\u001b[38;5;28mstr\u001b[39m, \u001b[38;5;28mstr\u001b[39m]],\n\u001b[32m    117\u001b[39m     return_each_element: \u001b[38;5;28mbool\u001b[39m = \u001b[38;5;28;01mFalse\u001b[39;00m,\n\u001b[32m    118\u001b[39m ) -> \u001b[38;5;28;01mNone\u001b[39;00m:\n\u001b[32m    119\u001b[39m \u001b[38;5;250m    \u001b[39m\u001b[33;03m\"\"\"Initialize with headers to split on.\u001b[39;00m\n\u001b[32m    120\u001b[39m \n\u001b[32m    121\u001b[39m \u001b[33;03m    Args:\u001b[39;00m\n\u001b[32m   (...)\u001b[39m\u001b[32m    125\u001b[39m \u001b[33;03m            element as a separate Document. Defaults to False.\u001b[39;00m\n\u001b[32m    126\u001b[39m \u001b[33;03m    \"\"\"\u001b[39;00m\n\u001b[32m    127\u001b[39m     \u001b[38;5;28mself\u001b[39m.headers_to_split_on = \u001b[38;5;28msorted\u001b[39m(\n\u001b[32m--> \u001b[39m\u001b[32m128\u001b[39m         headers_to_split_on, key=\u001b[38;5;28;01mlambda\u001b[39;00m x: \u001b[38;5;28mint\u001b[39m(\u001b[43mx\u001b[49m\u001b[43m[\u001b[49m\u001b[32;43m0\u001b[39;49m\u001b[43m]\u001b[49m\u001b[43m[\u001b[49m\u001b[32;43m1\u001b[39;49m\u001b[43m]\u001b[49m)\n\u001b[32m    129\u001b[39m     )\n\u001b[32m    130\u001b[39m     \u001b[38;5;28mself\u001b[39m.header_mapping = \u001b[38;5;28mdict\u001b[39m(\u001b[38;5;28mself\u001b[39m.headers_to_split_on)\n\u001b[32m    131\u001b[39m     \u001b[38;5;28mself\u001b[39m.header_tags = [tag \u001b[38;5;28;01mfor\u001b[39;00m tag, _ \u001b[38;5;129;01min\u001b[39;00m \u001b[38;5;28mself\u001b[39m.headers_to_split_on]\n",
      "\u001b[31mIndexError\u001b[39m: string index out of range"
     ]
    }
   ],
   "source": [
    "from langchain.text_splitter import HTMLHeaderTextSplitter\n",
    "import requests\n",
    "\n",
    "url = \"https://www.utoronto.ca/\"\n",
    "\n",
    "# Send a GET request to the URL\n",
    "response = requests.get(url)\n",
    "if response.status_code == 200:\n",
    "    html_doc = response.text\n",
    "\n",
    "headers_to_split_on = [\n",
    "    (\"h1\", \"Header 1\"),\n",
    "    (\"p\", \"paragraph\")\n",
    "]\n",
    "\n",
    "html_splitter = HTMLHeaderTextSplitter(headers_to_split_on=headers_to_split_on)\n",
    "html_header_splits = html_splitter.split_text(html_doc)\n",
    "html_header_splits[0].page_content"
   ]
  }
 ],
 "metadata": {
  "kernelspec": {
   "display_name": ".venv",
   "language": "python",
   "name": "python3"
  },
  "language_info": {
   "codemirror_mode": {
    "name": "ipython",
    "version": 3
   },
   "file_extension": ".py",
   "mimetype": "text/x-python",
   "name": "python",
   "nbconvert_exporter": "python",
   "pygments_lexer": "ipython3",
   "version": "3.12.3"
  }
 },
 "nbformat": 4,
 "nbformat_minor": 2
}
